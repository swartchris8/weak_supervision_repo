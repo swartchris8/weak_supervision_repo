{
 "cells": [
  {
   "cell_type": "code",
   "execution_count": 34,
   "id": "9ef56add",
   "metadata": {},
   "outputs": [],
   "source": [
    "import pandas as pd\n",
    "import xml.etree.ElementTree as ET"
   ]
  },
  {
   "cell_type": "code",
   "execution_count": 4,
   "id": "387f695a",
   "metadata": {},
   "outputs": [
    {
     "name": "stdout",
     "output_type": "stream",
     "text": [
      "/home/chris/weak_supervision_workshop/skweak/examples\r\n"
     ]
    }
   ],
   "source": [
    "!pwd"
   ]
  },
  {
   "cell_type": "markdown",
   "id": "f31e729a",
   "metadata": {},
   "source": [
    "!wget https://github.com/mijan75-ai/n2c2-NLP-Research-Data-Sets/raw/master/2006%20-%20Deidentification%20%26%20Smoking/smokers_surrogate_train_all_version2.zip\n",
    "\n",
    "!wget https://github.com/mijan75-ai/n2c2-NLP-Research-Data-Sets/raw/master/2006%20-%20Deidentification%20%26%20Smoking/smokers_surrogate_test_all_groundtruth_version2.zip"
   ]
  },
  {
   "cell_type": "code",
   "execution_count": 5,
   "id": "cb913a1e",
   "metadata": {},
   "outputs": [
    {
     "name": "stdout",
     "output_type": "stream",
     "text": [
      "smokers_surrogate_test_all_groundtruth_version2.xml\r\n",
      "smokers_surrogate_train_all_version2.xml\r\n"
     ]
    }
   ],
   "source": [
    "!ls smoker_data"
   ]
  },
  {
   "cell_type": "code",
   "execution_count": 11,
   "id": "9d71454d",
   "metadata": {},
   "outputs": [],
   "source": [
    "data_dir = \"smoker_data\"\n",
    "\n",
    "train_df = pd.read_xml(f\"{data_dir}/smokers_surrogate_train_all_version2.xml\")\n",
    "test_df = pd.read_xml(f\"{data_dir}/smokers_surrogate_test_all_groundtruth_version2.xml\")"
   ]
  },
  {
   "cell_type": "code",
   "execution_count": 33,
   "id": "356487eb",
   "metadata": {},
   "outputs": [],
   "source": [
    "\n",
    "\n",
    "train_xml_path = f\"{data_dir}/smokers_surrogate_train_all_version2.xml\"\n",
    "test_xml_path = f\"{data_dir}/smokers_surrogate_test_all_groundtruth_version2.xml\"\n",
    "\n",
    "def read_xml(xml_path):\n",
    "    with open(xml_path, \"r\") as fh:\n",
    "        xml = fh.read()\n",
    "\n",
    "    data = []\n",
    "    root = ET.fromstring(xml)\n",
    "    for record in root.findall('.//RECORD'):\n",
    "        record_id = record.attrib['ID']\n",
    "        for smoking in record.findall('SMOKING'):\n",
    "            smoking_status = smoking.attrib['STATUS']\n",
    "        for text in record.findall('TEXT'):\n",
    "            text_str = text.text\n",
    "        data.append({\n",
    "            \"record_id\": record_id,\n",
    "            \"smoking_status\": smoking_status,\n",
    "            \"text\": text_str\n",
    "        })      \n",
    "\n",
    "    df = pd.DataFrame(data)\n",
    "    return df\n",
    "\n",
    "train_df = read_xml(train_xml_path)\n",
    "test_df = read_xml(test_xml_path)"
   ]
  },
  {
   "cell_type": "code",
   "execution_count": 38,
   "id": "54009161",
   "metadata": {},
   "outputs": [
    {
     "name": "stdout",
     "output_type": "stream",
     "text": [
      "\n",
      "977146916\n",
      "HLGMC\n",
      "2878891\n",
      "022690\n",
      "01/27/1997 12:00:00 AM\n",
      "CARCINOMA OF THE COLON .\n",
      "Unsigned\n",
      "DIS\n",
      "Report Status :\n",
      "Unsigned\n",
      "Please do not go above this box important format codes are contained .\n",
      "DISCHARGE SUMMARY\n",
      "ARF32 FA\n",
      "DISCHARGE SUMMARY NAME :\n",
      "GIRRESNET , DIEDREO A\n",
      "UNIT NUMBER :\n",
      "075-71-01\n",
      "ADMISSION DATE :\n",
      "01/27/1997\n",
      "DISCHARGE DATE :\n",
      "01/31/1997\n",
      "PRINCIPAL DIAGNOSIS :\n",
      "Carcinoma of the colon .\n",
      "ASSOCIATED DIAGNOSIS :\n",
      "Urinary tract infection , and cirrhosis of the liver .\n",
      "HISTORY OF PRESENT ILLNESS :\n",
      "The patient is an 80-year-old male , who had a history of colon cancer in the past , resected approximately ten years prior to admission , history of heavy alcohol use , who presented with a two week history of poor PO intake , weight loss , and was noted to have acute on chronic Hepatitis by chemistries and question of pyelonephritis .\n",
      "He lived alone but was driven to the hospital by his son because of reported worsening and general care and deconditioning .\n",
      "Emergency Department course ; he was evaluated in the emergency room , found to be severely cachectic and jaundiced .\n",
      "He was given a liter of normal saline , along with thiamine , folate .\n",
      "An abdominal ultrasound was performed showing no stones .\n",
      "Chest x-ray revealed clear lungs and then he was admitted to Team C for management .\n",
      "PAST MEDICAL HISTORY :\n",
      "Cancer , ten years prior to admission , status post resection .\n",
      "MEDICATIONS ON ADMISSION :\n",
      "Folic acid .\n",
      "ALLERGIES :\n",
      "None .\n",
      "FAMILY HISTORY :\n",
      "Not obtained .\n",
      "SOCIAL HISTORY :\n",
      "Lives in Merca .\n",
      "Drinks ginger brandy to excess , pipe and cigar smoker for many years .\n",
      "PHYSICAL EXAMINATION :\n",
      "In general was a cachectic , jaundiced man .\n",
      "bloodpressure :\n",
      "124/60 , 97.4 , 84 , 22 for vital signs .\n",
      "head , eyes , ears , nose and throat :\n",
      "notable for abscess ulcers on the lower gums .\n",
      "He was edentulous .\n",
      "Neck was supple , lungs were clear except for some scattered mild crackles .\n",
      "Cardiac :\n",
      "tachycardic with a II / VI systolic ejection murmur .\n",
      "Belly was tender in the right upper quadrant .\n",
      "Liver edge , thickened abdominal wall was palpable .\n",
      "No inguinal nodes .\n",
      "Rectal was guaiac negative .\n",
      "On mental status exam , he was somnolent but arousable .\n",
      "Oriented to name , year , and hospital .\n",
      "Skin was jaundiced .\n",
      "LABORATORY DATA :\n",
      "Notable for a BUN and creatinine 14 and 1.8 , phosphorous of .5 , magnesium 1.2 , albumin 2.1 .\n",
      "elevated liver function tests , bilirubin of 14 direct , 17 total .\n",
      "uric acid 11.4 , alkaline phosphatase 173 , serum glutamic oxaloacetic transaminase 309 , amylase 388 .\n",
      "His urinalysis showed 10-20 granular casts and 10-20 white blood cells , 3-5 red blood cells , 5-10 whites , 3-5 white blood cells cast .\n",
      "The white blood cell was 8.5 , hematocrit 34 .\n",
      "platelet count 74 .\n",
      "5% bands on differential .\n",
      "prothrombin time 14.9 , partial thromboplastin time 35 .\n",
      "HOSPITAL COURSE AND TREATMENT :\n",
      "The patient was admitted to the Staviewordna University Of Medical Center .\n",
      "His mental status proceeded to decline as he became more sleepy and less arousable and confused .\n",
      "His Hepatitis worsened , liver failure progressed with his coagulopathy worsening .\n",
      "His renal status also decreased with a drop in urine output , became more shortness of breath as he developed some pulmonary edema .\n",
      "A head computerized tomography scan was planned to evaluate his change in mental status , but after an extensive discussion with the son , who felt that he and other family members wanted to maximize the patient 's comforts and avoid heroic measures in the event of further deterioration , plans were made to make the patient as comfortable as possible .\n",
      "He was continued on antibiotics , and oxygen , and morphine , and small amounts of Dopamine , and at 4 AM on January 31 , was pronounced dead .\n",
      "_________________________ AJO C. CUCHKOTE , M.D.\n",
      "TR :\n",
      "tfv\n",
      "DD :\n",
      "09/08/1997\n",
      "TD :\n",
      "10/13/1997 3:47\n",
      "Pcc :\n",
      "AZEL USANNE WALL , M.D.\n",
      "[ report_end ]\n",
      "\n"
     ]
    }
   ],
   "source": [
    "print(train_df.iloc[0].text)"
   ]
  },
  {
   "cell_type": "code",
   "execution_count": null,
   "id": "d34d0eca",
   "metadata": {},
   "outputs": [],
   "source": []
  }
 ],
 "metadata": {
  "kernelspec": {
   "display_name": "Python 3 (ipykernel)",
   "language": "python",
   "name": "python3"
  },
  "language_info": {
   "codemirror_mode": {
    "name": "ipython",
    "version": 3
   },
   "file_extension": ".py",
   "mimetype": "text/x-python",
   "name": "python",
   "nbconvert_exporter": "python",
   "pygments_lexer": "ipython3",
   "version": "3.10.4"
  }
 },
 "nbformat": 4,
 "nbformat_minor": 5
}
