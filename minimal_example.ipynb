{
 "cells": [
  {
   "cell_type": "code",
   "execution_count": 1,
   "id": "6766a303",
   "metadata": {},
   "outputs": [],
   "source": [
    "import skweak\n",
    "from skweak import base"
   ]
  },
  {
   "cell_type": "markdown",
   "id": "26c05bb8",
   "metadata": {},
   "source": [
    "## Preprocessing"
   ]
  },
  {
   "cell_type": "code",
   "execution_count": 15,
   "id": "e489f9e8",
   "metadata": {},
   "outputs": [],
   "source": [
    "import spacy\n",
    "nlp = spacy.load(\"en_core_web_md\")   # We load an English-language model\n",
    "\n",
    "doc = nlp(\"A not tall giraffe bought $20 or £40 worth of turtlenecks.\")"
   ]
  },
  {
   "cell_type": "markdown",
   "id": "c41dab60",
   "metadata": {},
   "source": [
    "## Storing documents"
   ]
  },
  {
   "cell_type": "code",
   "execution_count": 3,
   "id": "35b658a5",
   "metadata": {},
   "outputs": [],
   "source": [
    "# !mkdir minimal_example_data"
   ]
  },
  {
   "cell_type": "code",
   "execution_count": 16,
   "id": "442db09c",
   "metadata": {},
   "outputs": [
    {
     "name": "stdout",
     "output_type": "stream",
     "text": [
      "Write to minimal_example_data/minimal_example_data.docbin...done\n"
     ]
    }
   ],
   "source": [
    "docs = [doc, nlp(\"And this is another test. With two sentences.\")]\n",
    "skweak.utils.docbin_writer(docs, \"minimal_example_data/minimal_example_data.docbin\")\n",
    "\n",
    "# docbin_reader is doing lazy evaluation, so we need to use list(...)\n",
    "# to retrieve all documents at once\n",
    "docs_copy = list(skweak.utils.docbin_reader(\"minimal_example_data/minimal_example_data.docbin\"))"
   ]
  },
  {
   "cell_type": "markdown",
   "id": "0206038e",
   "metadata": {},
   "source": [
    "## Labelling functions"
   ]
  },
  {
   "cell_type": "code",
   "execution_count": 17,
   "id": "55d1950f",
   "metadata": {},
   "outputs": [],
   "source": [
    "class MoneyDetector(base.SpanAnnotator):\n",
    "    def __init__(self):\n",
    "        super(MoneyDetector, self).__init__(\"money_detector\")\n",
    "\n",
    "    def find_spans(self, doc):\n",
    "        for tok in doc[1:]:\n",
    "            if tok.text[0].isdigit() and tok.nbor(-1).is_currency:\n",
    "                yield tok.i-1, tok.i+1, \"MONEY\"\n",
    "\n",
    "money_detector = MoneyDetector()"
   ]
  },
  {
   "cell_type": "code",
   "execution_count": 18,
   "id": "33e783d5",
   "metadata": {},
   "outputs": [],
   "source": [
    "def tall_detector_fn(doc):\n",
    "    for tok in doc:\n",
    "        if tok.text.lower() == \"tall\":\n",
    "            yield tok.i, tok.i+1, \"TALL\"\n",
    "\n",
    "tall_detector = skweak.heuristics.FunctionAnnotator(\"tall_detector\", tall_detector_fn)"
   ]
  },
  {
   "cell_type": "markdown",
   "id": "e626b379",
   "metadata": {},
   "source": [
    "## Agreggate labelling functions"
   ]
  },
  {
   "cell_type": "code",
   "execution_count": 19,
   "id": "192fa40d",
   "metadata": {},
   "outputs": [],
   "source": [
    "majority_voter = skweak.voting.SequentialMajorityVoter(\"maj_voter\", labels=[\"TALL\", \"MONEY\"])"
   ]
  },
  {
   "cell_type": "markdown",
   "id": "4cc3c919",
   "metadata": {},
   "source": [
    "### Manually apply and aggregate labelling functions"
   ]
  },
  {
   "cell_type": "code",
   "execution_count": 20,
   "id": "0462bd8b",
   "metadata": {},
   "outputs": [],
   "source": [
    "mannually_apply_label_fns = money_detector(tall_detector(docs[0]))\n"
   ]
  },
  {
   "cell_type": "code",
   "execution_count": 21,
   "id": "51985c43",
   "metadata": {},
   "outputs": [
    {
     "data": {
      "text/html": [
       "<span class=\"tex2jax_ignore\"><div class=\"entities\" style=\"line-height: 2.5; direction: ltr\">A not \n",
       "<mark class=\"entity\" style=\"background: #ddd; padding: 0.45em 0.6em; margin: 0 0.25em; line-height: 1; border-radius: 0.35em;\">\n",
       "    tall\n",
       "    <span style=\"font-size: 0.8em; font-weight: bold; line-height: 1; border-radius: 0.35em; vertical-align: middle; margin-left: 0.5rem\">TALL</span>\n",
       "</mark>\n",
       " giraffe bought \n",
       "<mark class=\"entity\" style=\"background: #e4e7d2; padding: 0.45em 0.6em; margin: 0 0.25em; line-height: 1; border-radius: 0.35em;\">\n",
       "    $20\n",
       "    <span style=\"font-size: 0.8em; font-weight: bold; line-height: 1; border-radius: 0.35em; vertical-align: middle; margin-left: 0.5rem\">MONEY</span>\n",
       "</mark>\n",
       " or \n",
       "<mark class=\"entity\" style=\"background: #e4e7d2; padding: 0.45em 0.6em; margin: 0 0.25em; line-height: 1; border-radius: 0.35em;\">\n",
       "    £40\n",
       "    <span style=\"font-size: 0.8em; font-weight: bold; line-height: 1; border-radius: 0.35em; vertical-align: middle; margin-left: 0.5rem\">MONEY</span>\n",
       "</mark>\n",
       " worth of turtlenecks.</div></span>"
      ],
      "text/plain": [
       "<IPython.core.display.HTML object>"
      ]
     },
     "metadata": {},
     "output_type": "display_data"
    }
   ],
   "source": [
    "voted_doc = majority_voter(docs[0])\n",
    "\n",
    "# we can then visualise the final result (in Jupyter)\n",
    "skweak.utils.display_entities(voted_doc, \"maj_voter\")"
   ]
  },
  {
   "cell_type": "markdown",
   "id": "f9ebb0a6",
   "metadata": {},
   "source": [
    "## Pipe level labelling function aggregation"
   ]
  },
  {
   "cell_type": "code",
   "execution_count": 22,
   "id": "90b2990d",
   "metadata": {},
   "outputs": [
    {
     "data": {
      "text/plain": [
       "<skweak.base.CombinedAnnotator at 0x7fbcdc163760>"
      ]
     },
     "execution_count": 22,
     "metadata": {},
     "output_type": "execute_result"
    }
   ],
   "source": [
    "combined = skweak.base.CombinedAnnotator()\n",
    "combined.add_annotator(money_detector)\n",
    "combined.add_annotator(tall_detector)\n",
    "combined.add_annotator(majority_voter)"
   ]
  },
  {
   "cell_type": "code",
   "execution_count": 23,
   "id": "fe753f21",
   "metadata": {},
   "outputs": [],
   "source": [
    "docs = list(combined.pipe(docs))"
   ]
  },
  {
   "cell_type": "code",
   "execution_count": 24,
   "id": "b98d052f",
   "metadata": {},
   "outputs": [
    {
     "data": {
      "text/html": [
       "<span class=\"tex2jax_ignore\"><div class=\"entities\" style=\"line-height: 2.5; direction: ltr\">A not \n",
       "<mark class=\"entity\" style=\"background: #ddd; padding: 0.45em 0.6em; margin: 0 0.25em; line-height: 1; border-radius: 0.35em;\">\n",
       "    tall\n",
       "    <span style=\"font-size: 0.8em; font-weight: bold; line-height: 1; border-radius: 0.35em; vertical-align: middle; margin-left: 0.5rem\">TALL</span>\n",
       "</mark>\n",
       " giraffe bought \n",
       "<mark class=\"entity\" style=\"background: #e4e7d2; padding: 0.45em 0.6em; margin: 0 0.25em; line-height: 1; border-radius: 0.35em;\">\n",
       "    $20\n",
       "    <span style=\"font-size: 0.8em; font-weight: bold; line-height: 1; border-radius: 0.35em; vertical-align: middle; margin-left: 0.5rem\">MONEY</span>\n",
       "</mark>\n",
       " or \n",
       "<mark class=\"entity\" style=\"background: #e4e7d2; padding: 0.45em 0.6em; margin: 0 0.25em; line-height: 1; border-radius: 0.35em;\">\n",
       "    £40\n",
       "    <span style=\"font-size: 0.8em; font-weight: bold; line-height: 1; border-radius: 0.35em; vertical-align: middle; margin-left: 0.5rem\">MONEY</span>\n",
       "</mark>\n",
       " worth of turtlenecks.</div></span>"
      ],
      "text/plain": [
       "<IPython.core.display.HTML object>"
      ]
     },
     "metadata": {},
     "output_type": "display_data"
    }
   ],
   "source": [
    "skweak.utils.display_entities(docs[0], \"maj_voter\")"
   ]
  },
  {
   "cell_type": "code",
   "execution_count": 60,
   "id": "d8bdffd8",
   "metadata": {},
   "outputs": [],
   "source": [
    "def not_tall_detector_fn(doc):\n",
    "    for tok in doc[1:]:\n",
    "        if tok.text.lower() == \"tall\" and tok.nbor(-1).text == \"not\":\n",
    "            yield tok.i-1, tok.i+1, \"NOT_TALL\"\n",
    "\n",
    "not_tall_detector = skweak.heuristics.FunctionAnnotator(\"not_tall_detector\", not_tall_detector_fn)"
   ]
  },
  {
   "cell_type": "code",
   "execution_count": 61,
   "id": "9397ef72",
   "metadata": {},
   "outputs": [
    {
     "data": {
      "text/plain": [
       "{'tall_detector': [tall], 'money_detector': [$20, £40], 'maj_voter': [tall, $20, £40], 'not_annotator': [], 'not_tall_detector': [not tall]}"
      ]
     },
     "execution_count": 61,
     "metadata": {},
     "output_type": "execute_result"
    }
   ],
   "source": [
    "not_tall_detector(docs[0]).spans"
   ]
  },
  {
   "cell_type": "code",
   "execution_count": 62,
   "id": "13e59f1a",
   "metadata": {},
   "outputs": [
    {
     "data": {
      "text/html": [
       "<span class=\"tex2jax_ignore\"><div class=\"entities\" style=\"line-height: 2.5; direction: ltr\">A \n",
       "<mark class=\"entity\" style=\"background: #ddd; padding: 0.45em 0.6em; margin: 0 0.25em; line-height: 1; border-radius: 0.35em;\">\n",
       "    not tall\n",
       "    <span style=\"font-size: 0.8em; font-weight: bold; line-height: 1; border-radius: 0.35em; vertical-align: middle; margin-left: 0.5rem\">NOT_TALL</span>\n",
       "</mark>\n",
       " giraffe bought $20 or £40 worth of turtlenecks.</div></span>"
      ],
      "text/plain": [
       "<IPython.core.display.HTML object>"
      ]
     },
     "metadata": {},
     "output_type": "display_data"
    }
   ],
   "source": [
    "skweak.utils.display_entities(not_tall_detector(docs[0]), \"not_tall_detector\")"
   ]
  }
 ],
 "metadata": {
  "kernelspec": {
   "display_name": "Python 3 (ipykernel)",
   "language": "python",
   "name": "python3"
  },
  "language_info": {
   "codemirror_mode": {
    "name": "ipython",
    "version": 3
   },
   "file_extension": ".py",
   "mimetype": "text/x-python",
   "name": "python",
   "nbconvert_exporter": "python",
   "pygments_lexer": "ipython3",
   "version": "3.10.4"
  }
 },
 "nbformat": 4,
 "nbformat_minor": 5
}
